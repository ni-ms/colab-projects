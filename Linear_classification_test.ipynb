{
  "nbformat": 4,
  "nbformat_minor": 0,
  "metadata": {
    "colab": {
      "provenance": [],
      "authorship_tag": "ABX9TyMVcojN9qvZywHRm3TBPjgE",
      "include_colab_link": true
    },
    "kernelspec": {
      "name": "python3",
      "display_name": "Python 3"
    },
    "language_info": {
      "name": "python"
    }
  },
  "cells": [
    {
      "cell_type": "markdown",
      "metadata": {
        "id": "view-in-github",
        "colab_type": "text"
      },
      "source": [
        "<a href=\"https://colab.research.google.com/github/ni-ms/colab-projects/blob/linear-classification/Linear_classification_test.ipynb\" target=\"_parent\"><img src=\"https://colab.research.google.com/assets/colab-badge.svg\" alt=\"Open In Colab\"/></a>"
      ]
    },
    {
      "cell_type": "code",
      "source": [
        "from sklearn.datasets import load_breast_cancer\n",
        "import tensorflow as tf\n",
        "data = load_breast_cancer()"
      ],
      "metadata": {
        "id": "8oKgKqZbRAxP"
      },
      "execution_count": null,
      "outputs": []
    },
    {
      "cell_type": "code",
      "source": [
        "# type(data)\n",
        "data.data.shape\n",
        "# data.target\n",
        "# data.target_names\n",
        "# data.feature_names\n",
        "\n",
        "# All data is the same!\n"
      ],
      "metadata": {
        "colab": {
          "base_uri": "https://localhost:8080/"
        },
        "id": "Rafhe5BfZEbc",
        "outputId": "3e10e847-d03c-4022-d176-74d5383b4f44"
      },
      "execution_count": null,
      "outputs": [
        {
          "output_type": "execute_result",
          "data": {
            "text/plain": [
              "(569, 30)"
            ]
          },
          "metadata": {},
          "execution_count": 3
        }
      ]
    },
    {
      "cell_type": "code",
      "source": [
        "from sklearn.model_selection import train_test_split\n",
        "X_train, X_test, Y_train, Y_test = train_test_split(data.data,data.target, test_size=0.33)"
      ],
      "metadata": {
        "id": "04VvrxMWZM8O"
      },
      "execution_count": null,
      "outputs": []
    },
    {
      "cell_type": "code",
      "source": [
        "N,D = X_train.shape\n",
        "N,D"
      ],
      "metadata": {
        "colab": {
          "base_uri": "https://localhost:8080/"
        },
        "id": "5MOrLpVQ2ub0",
        "outputId": "7f74e267-da08-4004-c93b-53332629900f"
      },
      "execution_count": null,
      "outputs": [
        {
          "output_type": "execute_result",
          "data": {
            "text/plain": [
              "(381, 30)"
            ]
          },
          "metadata": {},
          "execution_count": 5
        }
      ]
    },
    {
      "cell_type": "code",
      "source": [
        "from sklearn.preprocessing import StandardScaler\n",
        "scaler = StandardScaler()\n",
        "X_train = scaler.fit_transform(X_train)\n",
        "X_test = scaler.transform(X_test)"
      ],
      "metadata": {
        "id": "E7P_ZlBx20ZK"
      },
      "execution_count": null,
      "outputs": []
    },
    {
      "cell_type": "code",
      "source": [
        "# model = tf.keras.models.Sequential([\n",
        "#      tf.keras.layers.Input(shape=(D,)),\n",
        "#      tf.keras.layers.Dense(1, activation='sigmoid')\n",
        "#  ])\n",
        "# model loading fails after you save if you explicitly have input layer for some reason\n",
        "\n",
        "model = tf.keras.models.Sequential()\n",
        "model.add(tf.keras.layers.Dense(1, input_shape=(D,), activation='sigmoid'))"
      ],
      "metadata": {
        "id": "19T1FWQS22Kl"
      },
      "execution_count": null,
      "outputs": []
    },
    {
      "cell_type": "code",
      "source": [
        "model.compile(optimizer='adam', loss='binary_crossentropy', metrics=['accuracy']);"
      ],
      "metadata": {
        "id": "669rj6jXWpR8"
      },
      "execution_count": null,
      "outputs": []
    },
    {
      "cell_type": "code",
      "source": [
        "r = model.fit(X_train, Y_train, validation_data=(X_test, Y_test), epochs=100)"
      ],
      "metadata": {
        "colab": {
          "base_uri": "https://localhost:8080/"
        },
        "id": "fF4H4pMPkVcW",
        "outputId": "e35f0275-bb4a-4709-9775-b3e0e8112329"
      },
      "execution_count": null,
      "outputs": [
        {
          "output_type": "stream",
          "name": "stdout",
          "text": [
            "Epoch 1/100\n",
            "12/12 [==============================] - 1s 28ms/step - loss: 0.9200 - accuracy: 0.4436 - val_loss: 1.0002 - val_accuracy: 0.4468\n",
            "Epoch 2/100\n",
            "12/12 [==============================] - 0s 7ms/step - loss: 0.8388 - accuracy: 0.5066 - val_loss: 0.9102 - val_accuracy: 0.5266\n",
            "Epoch 3/100\n",
            "12/12 [==============================] - 0s 6ms/step - loss: 0.7660 - accuracy: 0.5932 - val_loss: 0.8307 - val_accuracy: 0.5798\n",
            "Epoch 4/100\n",
            "12/12 [==============================] - 0s 8ms/step - loss: 0.7034 - accuracy: 0.6509 - val_loss: 0.7597 - val_accuracy: 0.6489\n",
            "Epoch 5/100\n",
            "12/12 [==============================] - 0s 7ms/step - loss: 0.6479 - accuracy: 0.6929 - val_loss: 0.6982 - val_accuracy: 0.6649\n",
            "Epoch 6/100\n",
            "12/12 [==============================] - 0s 6ms/step - loss: 0.6014 - accuracy: 0.7218 - val_loss: 0.6437 - val_accuracy: 0.7074\n",
            "Epoch 7/100\n",
            "12/12 [==============================] - 0s 7ms/step - loss: 0.5590 - accuracy: 0.7559 - val_loss: 0.5973 - val_accuracy: 0.7287\n",
            "Epoch 8/100\n",
            "12/12 [==============================] - 0s 8ms/step - loss: 0.5223 - accuracy: 0.7717 - val_loss: 0.5572 - val_accuracy: 0.7606\n",
            "Epoch 9/100\n",
            "12/12 [==============================] - 0s 8ms/step - loss: 0.4904 - accuracy: 0.8058 - val_loss: 0.5219 - val_accuracy: 0.7872\n",
            "Epoch 10/100\n",
            "12/12 [==============================] - 0s 6ms/step - loss: 0.4621 - accuracy: 0.8136 - val_loss: 0.4909 - val_accuracy: 0.8032\n",
            "Epoch 11/100\n",
            "12/12 [==============================] - 0s 7ms/step - loss: 0.4365 - accuracy: 0.8373 - val_loss: 0.4639 - val_accuracy: 0.8191\n",
            "Epoch 12/100\n",
            "12/12 [==============================] - 0s 6ms/step - loss: 0.4141 - accuracy: 0.8478 - val_loss: 0.4395 - val_accuracy: 0.8298\n",
            "Epoch 13/100\n",
            "12/12 [==============================] - 0s 6ms/step - loss: 0.3937 - accuracy: 0.8530 - val_loss: 0.4176 - val_accuracy: 0.8564\n",
            "Epoch 14/100\n",
            "12/12 [==============================] - 0s 5ms/step - loss: 0.3754 - accuracy: 0.8556 - val_loss: 0.3978 - val_accuracy: 0.8670\n",
            "Epoch 15/100\n",
            "12/12 [==============================] - 0s 5ms/step - loss: 0.3583 - accuracy: 0.8740 - val_loss: 0.3803 - val_accuracy: 0.8723\n",
            "Epoch 16/100\n",
            "12/12 [==============================] - 0s 5ms/step - loss: 0.3431 - accuracy: 0.8766 - val_loss: 0.3641 - val_accuracy: 0.8883\n",
            "Epoch 17/100\n",
            "12/12 [==============================] - 0s 5ms/step - loss: 0.3293 - accuracy: 0.8793 - val_loss: 0.3491 - val_accuracy: 0.8936\n",
            "Epoch 18/100\n",
            "12/12 [==============================] - 0s 5ms/step - loss: 0.3163 - accuracy: 0.8819 - val_loss: 0.3356 - val_accuracy: 0.8936\n",
            "Epoch 19/100\n",
            "12/12 [==============================] - 0s 5ms/step - loss: 0.3048 - accuracy: 0.8898 - val_loss: 0.3229 - val_accuracy: 0.8936\n",
            "Epoch 20/100\n",
            "12/12 [==============================] - 0s 4ms/step - loss: 0.2942 - accuracy: 0.9029 - val_loss: 0.3110 - val_accuracy: 0.8936\n",
            "Epoch 21/100\n",
            "12/12 [==============================] - 0s 4ms/step - loss: 0.2844 - accuracy: 0.9055 - val_loss: 0.2998 - val_accuracy: 0.9043\n",
            "Epoch 22/100\n",
            "12/12 [==============================] - 0s 4ms/step - loss: 0.2751 - accuracy: 0.9160 - val_loss: 0.2899 - val_accuracy: 0.9043\n",
            "Epoch 23/100\n",
            "12/12 [==============================] - 0s 5ms/step - loss: 0.2669 - accuracy: 0.9213 - val_loss: 0.2804 - val_accuracy: 0.9043\n",
            "Epoch 24/100\n",
            "12/12 [==============================] - 0s 5ms/step - loss: 0.2591 - accuracy: 0.9186 - val_loss: 0.2717 - val_accuracy: 0.9096\n",
            "Epoch 25/100\n",
            "12/12 [==============================] - 0s 4ms/step - loss: 0.2520 - accuracy: 0.9186 - val_loss: 0.2633 - val_accuracy: 0.9096\n",
            "Epoch 26/100\n",
            "12/12 [==============================] - 0s 5ms/step - loss: 0.2454 - accuracy: 0.9213 - val_loss: 0.2555 - val_accuracy: 0.9096\n",
            "Epoch 27/100\n",
            "12/12 [==============================] - 0s 5ms/step - loss: 0.2391 - accuracy: 0.9239 - val_loss: 0.2484 - val_accuracy: 0.9096\n",
            "Epoch 28/100\n",
            "12/12 [==============================] - 0s 5ms/step - loss: 0.2333 - accuracy: 0.9291 - val_loss: 0.2416 - val_accuracy: 0.9149\n",
            "Epoch 29/100\n",
            "12/12 [==============================] - 0s 4ms/step - loss: 0.2279 - accuracy: 0.9291 - val_loss: 0.2351 - val_accuracy: 0.9202\n",
            "Epoch 30/100\n",
            "12/12 [==============================] - 0s 5ms/step - loss: 0.2228 - accuracy: 0.9291 - val_loss: 0.2290 - val_accuracy: 0.9255\n",
            "Epoch 31/100\n",
            "12/12 [==============================] - 0s 5ms/step - loss: 0.2180 - accuracy: 0.9318 - val_loss: 0.2232 - val_accuracy: 0.9309\n",
            "Epoch 32/100\n",
            "12/12 [==============================] - 0s 4ms/step - loss: 0.2134 - accuracy: 0.9344 - val_loss: 0.2178 - val_accuracy: 0.9309\n",
            "Epoch 33/100\n",
            "12/12 [==============================] - 0s 4ms/step - loss: 0.2091 - accuracy: 0.9370 - val_loss: 0.2128 - val_accuracy: 0.9362\n",
            "Epoch 34/100\n",
            "12/12 [==============================] - 0s 4ms/step - loss: 0.2051 - accuracy: 0.9370 - val_loss: 0.2079 - val_accuracy: 0.9415\n",
            "Epoch 35/100\n",
            "12/12 [==============================] - 0s 4ms/step - loss: 0.2013 - accuracy: 0.9396 - val_loss: 0.2033 - val_accuracy: 0.9468\n",
            "Epoch 36/100\n",
            "12/12 [==============================] - 0s 5ms/step - loss: 0.1975 - accuracy: 0.9396 - val_loss: 0.1988 - val_accuracy: 0.9468\n",
            "Epoch 37/100\n",
            "12/12 [==============================] - 0s 5ms/step - loss: 0.1943 - accuracy: 0.9396 - val_loss: 0.1943 - val_accuracy: 0.9468\n",
            "Epoch 38/100\n",
            "12/12 [==============================] - 0s 4ms/step - loss: 0.1908 - accuracy: 0.9449 - val_loss: 0.1905 - val_accuracy: 0.9468\n",
            "Epoch 39/100\n",
            "12/12 [==============================] - 0s 5ms/step - loss: 0.1876 - accuracy: 0.9449 - val_loss: 0.1866 - val_accuracy: 0.9468\n",
            "Epoch 40/100\n",
            "12/12 [==============================] - 0s 4ms/step - loss: 0.1847 - accuracy: 0.9501 - val_loss: 0.1828 - val_accuracy: 0.9468\n",
            "Epoch 41/100\n",
            "12/12 [==============================] - 0s 5ms/step - loss: 0.1818 - accuracy: 0.9501 - val_loss: 0.1793 - val_accuracy: 0.9468\n",
            "Epoch 42/100\n",
            "12/12 [==============================] - 0s 4ms/step - loss: 0.1791 - accuracy: 0.9554 - val_loss: 0.1759 - val_accuracy: 0.9521\n",
            "Epoch 43/100\n",
            "12/12 [==============================] - 0s 4ms/step - loss: 0.1763 - accuracy: 0.9554 - val_loss: 0.1728 - val_accuracy: 0.9521\n",
            "Epoch 44/100\n",
            "12/12 [==============================] - 0s 5ms/step - loss: 0.1739 - accuracy: 0.9554 - val_loss: 0.1697 - val_accuracy: 0.9521\n",
            "Epoch 45/100\n",
            "12/12 [==============================] - 0s 4ms/step - loss: 0.1715 - accuracy: 0.9554 - val_loss: 0.1668 - val_accuracy: 0.9521\n",
            "Epoch 46/100\n",
            "12/12 [==============================] - 0s 6ms/step - loss: 0.1692 - accuracy: 0.9554 - val_loss: 0.1639 - val_accuracy: 0.9521\n",
            "Epoch 47/100\n",
            "12/12 [==============================] - 0s 4ms/step - loss: 0.1670 - accuracy: 0.9580 - val_loss: 0.1611 - val_accuracy: 0.9574\n",
            "Epoch 48/100\n",
            "12/12 [==============================] - 0s 5ms/step - loss: 0.1648 - accuracy: 0.9580 - val_loss: 0.1587 - val_accuracy: 0.9628\n",
            "Epoch 49/100\n",
            "12/12 [==============================] - 0s 5ms/step - loss: 0.1628 - accuracy: 0.9580 - val_loss: 0.1562 - val_accuracy: 0.9628\n",
            "Epoch 50/100\n",
            "12/12 [==============================] - 0s 5ms/step - loss: 0.1608 - accuracy: 0.9580 - val_loss: 0.1538 - val_accuracy: 0.9628\n",
            "Epoch 51/100\n",
            "12/12 [==============================] - 0s 5ms/step - loss: 0.1589 - accuracy: 0.9580 - val_loss: 0.1514 - val_accuracy: 0.9681\n",
            "Epoch 52/100\n",
            "12/12 [==============================] - 0s 5ms/step - loss: 0.1570 - accuracy: 0.9606 - val_loss: 0.1493 - val_accuracy: 0.9681\n",
            "Epoch 53/100\n",
            "12/12 [==============================] - 0s 4ms/step - loss: 0.1553 - accuracy: 0.9606 - val_loss: 0.1471 - val_accuracy: 0.9681\n",
            "Epoch 54/100\n",
            "12/12 [==============================] - 0s 4ms/step - loss: 0.1536 - accuracy: 0.9606 - val_loss: 0.1449 - val_accuracy: 0.9681\n",
            "Epoch 55/100\n",
            "12/12 [==============================] - 0s 5ms/step - loss: 0.1519 - accuracy: 0.9633 - val_loss: 0.1430 - val_accuracy: 0.9681\n",
            "Epoch 56/100\n",
            "12/12 [==============================] - 0s 5ms/step - loss: 0.1504 - accuracy: 0.9633 - val_loss: 0.1411 - val_accuracy: 0.9734\n",
            "Epoch 57/100\n",
            "12/12 [==============================] - 0s 5ms/step - loss: 0.1489 - accuracy: 0.9633 - val_loss: 0.1392 - val_accuracy: 0.9734\n",
            "Epoch 58/100\n",
            "12/12 [==============================] - 0s 5ms/step - loss: 0.1473 - accuracy: 0.9633 - val_loss: 0.1375 - val_accuracy: 0.9734\n",
            "Epoch 59/100\n",
            "12/12 [==============================] - 0s 5ms/step - loss: 0.1460 - accuracy: 0.9633 - val_loss: 0.1356 - val_accuracy: 0.9734\n",
            "Epoch 60/100\n",
            "12/12 [==============================] - 0s 5ms/step - loss: 0.1446 - accuracy: 0.9633 - val_loss: 0.1340 - val_accuracy: 0.9734\n",
            "Epoch 61/100\n",
            "12/12 [==============================] - 0s 4ms/step - loss: 0.1432 - accuracy: 0.9633 - val_loss: 0.1324 - val_accuracy: 0.9734\n",
            "Epoch 62/100\n",
            "12/12 [==============================] - 0s 6ms/step - loss: 0.1419 - accuracy: 0.9633 - val_loss: 0.1309 - val_accuracy: 0.9734\n",
            "Epoch 63/100\n",
            "12/12 [==============================] - 0s 6ms/step - loss: 0.1407 - accuracy: 0.9633 - val_loss: 0.1292 - val_accuracy: 0.9734\n",
            "Epoch 64/100\n",
            "12/12 [==============================] - 0s 4ms/step - loss: 0.1394 - accuracy: 0.9633 - val_loss: 0.1278 - val_accuracy: 0.9734\n",
            "Epoch 65/100\n",
            "12/12 [==============================] - 0s 5ms/step - loss: 0.1382 - accuracy: 0.9633 - val_loss: 0.1265 - val_accuracy: 0.9734\n",
            "Epoch 66/100\n",
            "12/12 [==============================] - 0s 4ms/step - loss: 0.1371 - accuracy: 0.9685 - val_loss: 0.1250 - val_accuracy: 0.9734\n",
            "Epoch 67/100\n",
            "12/12 [==============================] - 0s 4ms/step - loss: 0.1360 - accuracy: 0.9685 - val_loss: 0.1237 - val_accuracy: 0.9734\n",
            "Epoch 68/100\n",
            "12/12 [==============================] - 0s 5ms/step - loss: 0.1349 - accuracy: 0.9685 - val_loss: 0.1224 - val_accuracy: 0.9734\n",
            "Epoch 69/100\n",
            "12/12 [==============================] - 0s 4ms/step - loss: 0.1339 - accuracy: 0.9685 - val_loss: 0.1211 - val_accuracy: 0.9734\n",
            "Epoch 70/100\n",
            "12/12 [==============================] - 0s 5ms/step - loss: 0.1328 - accuracy: 0.9685 - val_loss: 0.1199 - val_accuracy: 0.9734\n",
            "Epoch 71/100\n",
            "12/12 [==============================] - 0s 4ms/step - loss: 0.1318 - accuracy: 0.9711 - val_loss: 0.1187 - val_accuracy: 0.9734\n",
            "Epoch 72/100\n",
            "12/12 [==============================] - 0s 6ms/step - loss: 0.1308 - accuracy: 0.9711 - val_loss: 0.1176 - val_accuracy: 0.9734\n",
            "Epoch 73/100\n",
            "12/12 [==============================] - 0s 5ms/step - loss: 0.1299 - accuracy: 0.9711 - val_loss: 0.1165 - val_accuracy: 0.9734\n",
            "Epoch 74/100\n",
            "12/12 [==============================] - 0s 5ms/step - loss: 0.1290 - accuracy: 0.9711 - val_loss: 0.1154 - val_accuracy: 0.9734\n",
            "Epoch 75/100\n",
            "12/12 [==============================] - 0s 5ms/step - loss: 0.1281 - accuracy: 0.9711 - val_loss: 0.1144 - val_accuracy: 0.9734\n",
            "Epoch 76/100\n",
            "12/12 [==============================] - 0s 5ms/step - loss: 0.1272 - accuracy: 0.9711 - val_loss: 0.1133 - val_accuracy: 0.9734\n",
            "Epoch 77/100\n",
            "12/12 [==============================] - 0s 6ms/step - loss: 0.1264 - accuracy: 0.9711 - val_loss: 0.1123 - val_accuracy: 0.9734\n",
            "Epoch 78/100\n",
            "12/12 [==============================] - 0s 6ms/step - loss: 0.1256 - accuracy: 0.9711 - val_loss: 0.1113 - val_accuracy: 0.9734\n",
            "Epoch 79/100\n",
            "12/12 [==============================] - 0s 5ms/step - loss: 0.1247 - accuracy: 0.9711 - val_loss: 0.1105 - val_accuracy: 0.9734\n",
            "Epoch 80/100\n",
            "12/12 [==============================] - 0s 5ms/step - loss: 0.1239 - accuracy: 0.9711 - val_loss: 0.1095 - val_accuracy: 0.9734\n",
            "Epoch 81/100\n",
            "12/12 [==============================] - 0s 4ms/step - loss: 0.1232 - accuracy: 0.9711 - val_loss: 0.1085 - val_accuracy: 0.9734\n",
            "Epoch 82/100\n",
            "12/12 [==============================] - 0s 4ms/step - loss: 0.1224 - accuracy: 0.9711 - val_loss: 0.1077 - val_accuracy: 0.9734\n",
            "Epoch 83/100\n",
            "12/12 [==============================] - 0s 4ms/step - loss: 0.1217 - accuracy: 0.9711 - val_loss: 0.1068 - val_accuracy: 0.9734\n",
            "Epoch 84/100\n",
            "12/12 [==============================] - 0s 4ms/step - loss: 0.1210 - accuracy: 0.9711 - val_loss: 0.1060 - val_accuracy: 0.9734\n",
            "Epoch 85/100\n",
            "12/12 [==============================] - 0s 4ms/step - loss: 0.1203 - accuracy: 0.9711 - val_loss: 0.1051 - val_accuracy: 0.9734\n",
            "Epoch 86/100\n",
            "12/12 [==============================] - 0s 4ms/step - loss: 0.1196 - accuracy: 0.9711 - val_loss: 0.1043 - val_accuracy: 0.9734\n",
            "Epoch 87/100\n",
            "12/12 [==============================] - 0s 5ms/step - loss: 0.1189 - accuracy: 0.9711 - val_loss: 0.1036 - val_accuracy: 0.9734\n",
            "Epoch 88/100\n",
            "12/12 [==============================] - 0s 5ms/step - loss: 0.1182 - accuracy: 0.9711 - val_loss: 0.1028 - val_accuracy: 0.9734\n",
            "Epoch 89/100\n",
            "12/12 [==============================] - 0s 4ms/step - loss: 0.1177 - accuracy: 0.9738 - val_loss: 0.1021 - val_accuracy: 0.9734\n",
            "Epoch 90/100\n",
            "12/12 [==============================] - 0s 5ms/step - loss: 0.1170 - accuracy: 0.9738 - val_loss: 0.1014 - val_accuracy: 0.9734\n",
            "Epoch 91/100\n",
            "12/12 [==============================] - 0s 5ms/step - loss: 0.1164 - accuracy: 0.9738 - val_loss: 0.1006 - val_accuracy: 0.9734\n",
            "Epoch 92/100\n",
            "12/12 [==============================] - 0s 6ms/step - loss: 0.1158 - accuracy: 0.9738 - val_loss: 0.1000 - val_accuracy: 0.9734\n",
            "Epoch 93/100\n",
            "12/12 [==============================] - 0s 5ms/step - loss: 0.1152 - accuracy: 0.9738 - val_loss: 0.0992 - val_accuracy: 0.9734\n",
            "Epoch 94/100\n",
            "12/12 [==============================] - 0s 4ms/step - loss: 0.1146 - accuracy: 0.9764 - val_loss: 0.0986 - val_accuracy: 0.9734\n",
            "Epoch 95/100\n",
            "12/12 [==============================] - 0s 5ms/step - loss: 0.1141 - accuracy: 0.9764 - val_loss: 0.0980 - val_accuracy: 0.9734\n",
            "Epoch 96/100\n",
            "12/12 [==============================] - 0s 5ms/step - loss: 0.1135 - accuracy: 0.9764 - val_loss: 0.0973 - val_accuracy: 0.9734\n",
            "Epoch 97/100\n",
            "12/12 [==============================] - 0s 5ms/step - loss: 0.1130 - accuracy: 0.9764 - val_loss: 0.0967 - val_accuracy: 0.9734\n",
            "Epoch 98/100\n",
            "12/12 [==============================] - 0s 4ms/step - loss: 0.1125 - accuracy: 0.9764 - val_loss: 0.0961 - val_accuracy: 0.9734\n",
            "Epoch 99/100\n",
            "12/12 [==============================] - 0s 4ms/step - loss: 0.1119 - accuracy: 0.9764 - val_loss: 0.0955 - val_accuracy: 0.9734\n",
            "Epoch 100/100\n",
            "12/12 [==============================] - 0s 4ms/step - loss: 0.1114 - accuracy: 0.9764 - val_loss: 0.0949 - val_accuracy: 0.9734\n"
          ]
        }
      ]
    },
    {
      "cell_type": "code",
      "source": [
        "print(\"Train score\", model.evaluate(X_train, Y_train))\n",
        "print(\"Test score\", model.evaluate(X_test, Y_test))"
      ],
      "metadata": {
        "colab": {
          "base_uri": "https://localhost:8080/"
        },
        "id": "sS112gYNs_K6",
        "outputId": "e5454cc8-7ffe-4aed-c637-53e1c09e2791"
      },
      "execution_count": null,
      "outputs": [
        {
          "output_type": "stream",
          "name": "stdout",
          "text": [
            "12/12 [==============================] - 0s 2ms/step - loss: 0.1111 - accuracy: 0.9764\n",
            "Train score [0.11108066886663437, 0.9763779640197754]\n",
            "6/6 [==============================] - 0s 3ms/step - loss: 0.0949 - accuracy: 0.9734\n",
            "Test score [0.094893679022789, 0.9734042286872864]\n"
          ]
        }
      ]
    },
    {
      "cell_type": "code",
      "source": [
        "import matplotlib.pyplot as plt\n",
        "plt.plot(r.history['loss'], label='loss')\n",
        "plt.plot(r.history['val_loss'], label='validation_loss')\n",
        "plt.legend()"
      ],
      "metadata": {
        "colab": {
          "base_uri": "https://localhost:8080/",
          "height": 447
        },
        "id": "jz8KPoJwtrGs",
        "outputId": "f36a4fc5-e1fd-4d6b-9d77-89a13532212b"
      },
      "execution_count": null,
      "outputs": [
        {
          "output_type": "execute_result",
          "data": {
            "text/plain": [
              "<matplotlib.legend.Legend at 0x7d4b8c1e5660>"
            ]
          },
          "metadata": {},
          "execution_count": 11
        },
        {
          "output_type": "display_data",
          "data": {
            "text/plain": [
              "<Figure size 640x480 with 1 Axes>"
            ],
            "image/png": "[encoded data removed]"
          },
          "metadata": {}
        }
      ]
    },
    {
      "cell_type": "code",
      "source": [
        "plt.plot(r.history['accuracy'], label='accuracy')\n",
        "plt.plot(r.history['val_accuracy'], label='validation_accuracy')\n",
        "plt.legend()"
      ],
      "metadata": {
        "colab": {
          "base_uri": "https://localhost:8080/",
          "height": 450
        },
        "id": "sEkhzdxYwOa0",
        "outputId": "8c825584-28ae-4b63-93f7-28107db0ad2c"
      },
      "execution_count": null,
      "outputs": [
        {
          "output_type": "execute_result",
          "data": {
            "text/plain": [
              "<matplotlib.legend.Legend at 0x7d4b8dd537c0>"
            ]
          },
          "metadata": {},
          "execution_count": 12
        },
        {
          "output_type": "display_data",
          "data": {
            "text/plain": [
              "<Figure size 640x480 with 1 Axes>"
            ],
            "image/png": "[encoded data removed]"
          },
          "metadata": {}
        }
      ]
    },
    {
      "cell_type": "code",
      "source": [
        "P = model.predict(X_test)"
      ],
      "metadata": {
        "id": "70lWZhRQweGv",
        "colab": {
          "base_uri": "https://localhost:8080/"
        },
        "outputId": "d4784360-38e0-4d25-f8c2-0e92327cefa1"
      },
      "execution_count": null,
      "outputs": [
        {
          "output_type": "stream",
          "name": "stdout",
          "text": [
            "6/6 [==============================] - 0s 2ms/step\n"
          ]
        }
      ]
    },
    {
      "cell_type": "code",
      "source": [
        "# Round the probabilities and flatten these predictions\n",
        "# Shape (D, 1):\n",
        "# Represents a column vector with D elements.\n",
        "# It has D rows and 1 column.\n",
        "# Essentially, it’s a 2D array with a single column.\n",
        "# Example: If D = 3, the shape would be (3, 1).\n",
        "# Shape (D,):\n",
        "# Represents a 1D array (also called a flat array or vector).\n",
        "# It has D elements along a single dimension.\n",
        "# Essentially, it’s a 1D array.\n",
        "# Example: If D = 3, the shape would be (3)."
      ],
      "metadata": {
        "id": "S8ZFtorUFNke"
      },
      "execution_count": null,
      "outputs": []
    },
    {
      "cell_type": "code",
      "source": [
        "import numpy as np\n",
        "P = np.round(P).flatten()\n",
        "print(P)"
      ],
      "metadata": {
        "colab": {
          "base_uri": "https://localhost:8080/"
        },
        "id": "S40i5ep6GtVj",
        "outputId": "4ba8e35c-f375-47cf-e019-4664567e0c9f"
      },
      "execution_count": null,
      "outputs": [
        {
          "output_type": "stream",
          "name": "stdout",
          "text": [
            "[1. 1. 0. 1. 1. 0. 0. 1. 1. 0. 1. 1. 1. 0. 1. 1. 0. 0. 1. 1. 1. 1. 0. 1.\n",
            " 1. 0. 0. 0. 1. 1. 1. 0. 1. 0. 0. 1. 0. 1. 0. 0. 0. 1. 0. 0. 0. 0. 1. 1.\n",
            " 1. 0. 0. 0. 0. 0. 1. 0. 1. 1. 0. 1. 1. 1. 1. 1. 1. 0. 1. 0. 1. 1. 1. 1.\n",
            " 1. 0. 1. 0. 0. 1. 1. 0. 1. 1. 1. 1. 1. 1. 0. 1. 0. 1. 1. 0. 0. 0. 0. 0.\n",
            " 1. 0. 1. 0. 1. 1. 0. 0. 0. 0. 1. 1. 1. 0. 0. 0. 1. 1. 1. 1. 1. 1. 0. 0.\n",
            " 1. 1. 0. 1. 0. 1. 1. 1. 1. 1. 1. 0. 0. 0. 1. 1. 1. 1. 0. 1. 0. 1. 1. 1.\n",
            " 0. 0. 1. 1. 0. 1. 0. 0. 0. 1. 0. 0. 1. 1. 0. 1. 1. 0. 0. 1. 0. 0. 1. 1.\n",
            " 0. 1. 1. 1. 1. 1. 1. 0. 1. 0. 1. 1. 1. 1. 1. 0. 1. 1. 0. 1.]\n"
          ]
        }
      ]
    },
    {
      "cell_type": "code",
      "source": [
        "print(\"Manually calculated accuracy: \", np.mean(P == Y_test))\n",
        "# == does element wise comparision, mean is sum / total\n",
        "print(\"Evaluate output:\", model.evaluate(X_test, Y_test))"
      ],
      "metadata": {
        "colab": {
          "base_uri": "https://localhost:8080/"
        },
        "id": "SYcw8vrVHZ1a",
        "outputId": "7a7c4cc2-b8fa-43f9-cbf5-a652bbcb40a6"
      },
      "execution_count": null,
      "outputs": [
        {
          "output_type": "stream",
          "name": "stdout",
          "text": [
            "Manually calculated accuracy:  0.973404255319149\n",
            "6/6 [==============================] - 0s 2ms/step - loss: 0.0949 - accuracy: 0.9734\n",
            "Evaluate output: [0.094893679022789, 0.9734042286872864]\n"
          ]
        }
      ]
    },
    {
      "cell_type": "code",
      "source": [
        "model.save('linearclassification.keras')"
      ],
      "metadata": {
        "id": "eQ1iPRj3HzoX"
      },
      "execution_count": null,
      "outputs": []
    },
    {
      "cell_type": "code",
      "source": [
        "!ls -lh"
      ],
      "metadata": {
        "colab": {
          "base_uri": "https://localhost:8080/"
        },
        "id": "Q7u7DXBFmCv3",
        "outputId": "5a1191a1-3bdb-4801-8484-f1b129029c38"
      },
      "execution_count": null,
      "outputs": [
        {
          "output_type": "stream",
          "name": "stdout",
          "text": [
            "total 44K\n",
            "-rw-r--r-- 1 root root  20K May 21 14:46 linearclassification.h5\n",
            "-rw-r--r-- 1 root root  17K May 21 14:46 linearclassification.keras\n",
            "drwxr-xr-x 1 root root 4.0K May 17 13:37 sample_data\n"
          ]
        }
      ]
    },
    {
      "cell_type": "code",
      "source": [
        "model = tf.keras.models.load_model('linearclassification.keras')\n",
        "print(model.layers)\n",
        "model.evaluate(X_test, Y_test)"
      ],
      "metadata": {
        "colab": {
          "base_uri": "https://localhost:8080/"
        },
        "id": "KLif8TgNnqkH",
        "outputId": "3dc6919e-e1b8-475d-af2c-2f814504a94c"
      },
      "execution_count": null,
      "outputs": [
        {
          "output_type": "stream",
          "name": "stdout",
          "text": [
            "[<keras.src.layers.core.dense.Dense object at 0x7d4b7dfafcd0>]\n",
            "6/6 [==============================] - 0s 3ms/step - loss: 0.0949 - accuracy: 0.9734\n"
          ]
        },
        {
          "output_type": "execute_result",
          "data": {
            "text/plain": [
              "[0.094893679022789, 0.9734042286872864]"
            ]
          },
          "metadata": {},
          "execution_count": 20
        }
      ]
    },
    {
      "cell_type": "code",
      "source": [],
      "metadata": {
        "id": "-i3rqUOgn4t0"
      },
      "execution_count": null,
      "outputs": []
    }
  ]
}